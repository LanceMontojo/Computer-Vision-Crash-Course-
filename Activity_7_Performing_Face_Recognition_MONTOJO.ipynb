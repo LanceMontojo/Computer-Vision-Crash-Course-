{
  "cells": [
    {
      "cell_type": "markdown",
      "metadata": {
        "id": "Hj9Q5rZAFAlM"
      },
      "source": [
        "Technological Institute of the Philippines | Quezon City - Computer Engineering\n",
        "--- | ---\n",
        "Course Code: | CPE 313\n",
        "Code Title: | Advanced Machine Learning and Deep Learning Discussion\n",
        "1st Semester | AY 2024-2025\n",
        "**ACTIVITY NO. 7** | **Performing Face Recognition**\n",
        "**Name** | Montojo, Lance M.\n",
        "**Section** | CPE31S3\n",
        "**Date Performed**: | 02/21/2025\n",
        "**Date Submitted**: | 02/21/2025\n",
        "**Instructor**: |Engr. Roman M. Richard\n",
        "\n",
        "<hr>"
      ]
    },
    {
      "cell_type": "markdown",
      "metadata": {
        "id": "ElMxAUPJGYLw"
      },
      "source": [
        "## 1. Objectives"
      ]
    },
    {
      "cell_type": "markdown",
      "metadata": {
        "id": "dr0bUEs1nxE0"
      },
      "source": [
        "This activity aims to enable students to perform data preparation and face recognition on their own generated dataset."
      ]
    },
    {
      "cell_type": "markdown",
      "metadata": {
        "id": "do-8nSpXFpyd"
      },
      "source": [
        "## 2. Intended Learning Outcomes (ILOs)\n",
        "After this activity, the students should be able to:\n",
        "* Utilize data preparation techniques for images.\n",
        "* Perform Face Recognition using multiple algorithms.\n",
        "* Evaluate the performance of different algorithms."
      ]
    },
    {
      "cell_type": "markdown",
      "metadata": {
        "id": "X-RNZovNGV9k"
      },
      "source": [
        "## 3. Procedures and Outputs"
      ]
    },
    {
      "cell_type": "markdown",
      "metadata": {
        "id": "lBQh8Eyf1EHC"
      },
      "source": [
        "### Preparing the training data"
      ]
    },
    {
      "cell_type": "markdown",
      "metadata": {
        "id": "hpAAiS_V1Jfy"
      },
      "source": [
        "Now that we have our data, we need to load these sample pictures into our face recognition algorithms. All face recognition algorithms take two parameters in their `train()` method: an array of images and an array of labels. What do these labels represent? They are the IDs of a certain individual/face so that when face recognition is performed, we not only know the person was recognized but also who—among the many people available in our database—the person is.\n",
        "\n",
        "To do that, we need to create a comma-separated value (CSV) file, which will contain the path to a sample picture followed by the ID of that person."
      ]
    },
    {
      "cell_type": "markdown",
      "metadata": {
        "id": "sWqIq9Sz1Svi"
      },
      "source": [
        "**Include a Screenshot of Your Dataset Here**"
      ]
    },
    {
      "cell_type": "markdown",
      "metadata": {
        "id": "1SiR2yJQ1W7B"
      },
      "source": [
        "---"
      ]
    },
    {
      "cell_type": "markdown",
      "metadata": {
        "id": "TPA3SGHN1YdC"
      },
      "source": [
        "### Loading the data and recognizing faces"
      ]
    },
    {
      "cell_type": "markdown",
      "metadata": {
        "id": "Q07mfdMq1b2J"
      },
      "source": [
        "Next up, we need to load these two resources (the array of images and CSV file) into the face recognition algorithm, so it can be trained to recognize our face. To do this, we build a function that reads the CSV file and—for each line of the file—loads the image at the corresponding path into the images array and the ID into the labels array."
      ]
    },
    {
      "cell_type": "code",
      "execution_count": 1,
      "metadata": {
        "id": "c4TmUw_BEeUc"
      },
      "outputs": [],
      "source": [
        "import numpy as np\n",
        "import os\n",
        "import errno\n",
        "import sys\n",
        "import cv2\n",
        "\n",
        "def read_images(path, sz=None):\n",
        "  c = 0\n",
        "  X, y = [], []\n",
        "\n",
        "  for dirname, dirnames, filenames in os.walk(path):\n",
        "    for subdirname in dirnames:\n",
        "      subject_path = os.path.join(dirname, subdirname)\n",
        "      for filename in os.listdir(subject_path):\n",
        "        try:\n",
        "          if(filename == \".directory\"):\n",
        "            continue\n",
        "          filepath = os.path.join(subject_path, filename)\n",
        "          im = cv2.imread(os.path.join(subject_path, filename), cv2.IMREAD_GRAYSCALE)\n",
        "\n",
        "          # Resize the images to the prescribed size\n",
        "          if (sz is not None):\n",
        "            im = cv2.resize(im, (200,200))\n",
        "\n",
        "          X.append(np.asarray(im, dtype=np.uint8))\n",
        "          y.append(c)\n",
        "\n",
        "        except IOError as e:\n",
        "          print(f\"I/O Error({e.errno}): {e.strerror}\")\n",
        "        except:\n",
        "          print(\"Unexpected error:\", sys.exc_info()[0])\n",
        "          raise\n",
        "      c = c+1\n",
        "  return [X, y]"
      ]
    },
    {
      "cell_type": "code",
      "execution_count": 2,
      "metadata": {},
      "outputs": [
        {
          "name": "stdout",
          "output_type": "stream",
          "text": [
            "[[array([[255, 255, 255, ..., 105, 101,  97],\n",
            "       [255, 255, 255, ...,  98,  94,  92],\n",
            "       [255, 255, 255, ...,  97,  95,  97],\n",
            "       ...,\n",
            "       [101, 101,  99, ...,  25,  31,  30],\n",
            "       [ 97,  98,  96, ...,  26,  34,  31],\n",
            "       [ 98,  99,  98, ...,  27,  35,  30]],\n",
            "      shape=(720, 1280), dtype=uint8), array([[255, 255, 255, ..., 100, 100, 100],\n",
            "       [255, 255, 255, ..., 109, 113, 116],\n",
            "       [255, 255, 255, ..., 108, 111, 113],\n",
            "       ...,\n",
            "       [109, 111, 112, ...,  30,  29,  27],\n",
            "       [105, 109, 111, ...,  33,  34,  35],\n",
            "       [102, 108, 113, ...,  32,  35,  40]],\n",
            "      shape=(720, 1280), dtype=uint8), array([[255, 255, 255, ..., 102, 103, 104],\n",
            "       [255, 255, 255, ..., 106, 103, 101],\n",
            "       [255, 255, 255, ..., 107, 106, 105],\n",
            "       ...,\n",
            "       [ 99, 100, 102, ...,  28,  25,  23],\n",
            "       [102, 103, 104, ...,  31,  30,  28],\n",
            "       [103, 102, 103, ...,  34,  34,  34]],\n",
            "      shape=(720, 1280), dtype=uint8), array([[255, 255, 255, ..., 116, 119, 117],\n",
            "       [255, 255, 255, ..., 109, 104,  97],\n",
            "       [255, 255, 255, ..., 108, 107, 103],\n",
            "       ...,\n",
            "       [120, 121, 109, ...,  34,  26,  22],\n",
            "       [107, 106, 103, ...,  39,  35,  31],\n",
            "       [110, 107, 110, ...,  34,  35,  33]],\n",
            "      shape=(720, 1280), dtype=uint8), array([[255, 255, 255, ..., 106, 107, 109],\n",
            "       [255, 255, 255, ..., 106, 106, 107],\n",
            "       [255, 255, 255, ..., 105, 106, 108],\n",
            "       ...,\n",
            "       [112, 110, 114, ...,  36,  37,  37],\n",
            "       [108, 107, 112, ...,  30,  32,  33],\n",
            "       [107, 107, 113, ...,  26,  28,  30]],\n",
            "      shape=(720, 1280), dtype=uint8), array([[255, 255, 255, ..., 102, 102, 105],\n",
            "       [255, 255, 255, ..., 104, 105, 108],\n",
            "       [255, 255, 255, ..., 103, 104, 106],\n",
            "       ...,\n",
            "       [108, 107, 103, ...,  22,  23,  29],\n",
            "       [109, 103, 102, ...,  30,  30,  35],\n",
            "       [103, 102, 110, ...,  34,  29,  30]],\n",
            "      shape=(720, 1280), dtype=uint8), array([[255, 255, 255, ..., 102, 106, 110],\n",
            "       [255, 255, 255, ..., 101, 102, 103],\n",
            "       [255, 255, 255, ..., 111, 110, 109],\n",
            "       ...,\n",
            "       [109, 109, 109, ...,  39,  35,  36],\n",
            "       [106, 111, 112, ...,  36,  33,  35],\n",
            "       [105, 113, 116, ...,  36,  34,  37]],\n",
            "      shape=(720, 1280), dtype=uint8), array([[255, 255, 255, ..., 109, 106, 103],\n",
            "       [255, 255, 255, ..., 112, 111, 111],\n",
            "       [255, 255, 255, ..., 107, 107, 107],\n",
            "       ...,\n",
            "       [109, 121, 116, ...,  44,  40,  38],\n",
            "       [110, 113, 112, ...,  31,  33,  34],\n",
            "       [104, 114, 124, ...,  32,  35,  37]],\n",
            "      shape=(720, 1280), dtype=uint8), array([[255, 255, 255, ..., 108, 101, 102],\n",
            "       [255, 255, 255, ..., 109, 103, 104],\n",
            "       [255, 255, 255, ..., 108, 106, 106],\n",
            "       ...,\n",
            "       [112, 114, 119, ...,  22,  25,  30],\n",
            "       [114, 115, 119, ...,  28,  30,  35],\n",
            "       [114, 114, 116, ...,  32,  32,  32]],\n",
            "      shape=(720, 1280), dtype=uint8), array([[255, 255, 255, ..., 113, 112, 115],\n",
            "       [255, 255, 255, ..., 109, 108, 111],\n",
            "       [255, 255, 255, ..., 108, 107, 110],\n",
            "       ...,\n",
            "       [108, 112, 113, ...,  27,  28,  29],\n",
            "       [106, 106, 106, ...,  32,  35,  37],\n",
            "       [109, 105, 102, ...,  25,  23,  22]],\n",
            "      shape=(720, 1280), dtype=uint8), array([[240, 243, 240, ...,  85,  80,  84],\n",
            "       [241, 242, 239, ...,  78,  76,  78],\n",
            "       [241, 242, 237, ...,  77,  76,  75],\n",
            "       ...,\n",
            "       [ 56,  54,  51, ...,  16,  18,  16],\n",
            "       [ 58,  57,  51, ...,  12,  17,  17],\n",
            "       [ 58,  59,  54, ...,  11,  16,  17]],\n",
            "      shape=(720, 1280), dtype=uint8), array([[248, 248, 248, ...,  82,  80,  82],\n",
            "       [246, 247, 247, ...,  84,  85,  85],\n",
            "       [248, 249, 250, ...,  84,  86,  85],\n",
            "       ...,\n",
            "       [ 59,  60,  50, ...,  16,  22,  20],\n",
            "       [ 62,  65,  53, ...,  13,  20,  17],\n",
            "       [ 65,  68,  53, ...,  16,  24,  20]],\n",
            "      shape=(720, 1280), dtype=uint8), array([[231, 229, 230, ...,  77,  70,  69],\n",
            "       [234, 232, 232, ...,  74,  72,  73],\n",
            "       [231, 229, 228, ...,  71,  70,  73],\n",
            "       ...,\n",
            "       [ 65,  62,  64, ...,  12,  13,  13],\n",
            "       [ 66,  70,  67, ...,  17,  17,  17],\n",
            "       [ 65,  76,  57, ...,  15,  16,  14]],\n",
            "      shape=(720, 1280), dtype=uint8), array([[240, 237, 235, ...,  75,  70,  70],\n",
            "       [236, 236, 236, ...,  71,  66,  65],\n",
            "       [234, 236, 237, ...,  71,  67,  67],\n",
            "       ...,\n",
            "       [ 50,  38,  25, ...,  11,  16,  16],\n",
            "       [ 55,  45,  29, ...,   8,  10,   8],\n",
            "       [ 47,  47,  38, ...,  11,  15,  14]],\n",
            "      shape=(720, 1280), dtype=uint8), array([[248, 249, 249, ...,  80,  77,  79],\n",
            "       [247, 247, 247, ...,  74,  71,  75],\n",
            "       [245, 245, 246, ...,  75,  73,  78],\n",
            "       ...,\n",
            "       [ 52,  49,  45, ...,  17,  17,  17],\n",
            "       [ 59,  56,  51, ...,  17,  16,  16],\n",
            "       [ 59,  58,  55, ...,  17,  17,  16]],\n",
            "      shape=(720, 1280), dtype=uint8), array([[248, 248, 248, ...,  84,  82,  81],\n",
            "       [247, 247, 248, ...,  76,  75,  77],\n",
            "       [245, 247, 248, ...,  72,  74,  78],\n",
            "       ...,\n",
            "       [ 48,  53,  49, ...,  20,  18,  16],\n",
            "       [ 53,  57,  51, ...,  18,  17,  16],\n",
            "       [ 56,  59,  52, ...,  20,  21,  21]],\n",
            "      shape=(720, 1280), dtype=uint8), array([[248, 247, 247, ...,  74,  76,  79],\n",
            "       [247, 247, 246, ...,  74,  74,  76],\n",
            "       [247, 246, 246, ...,  78,  78,  79],\n",
            "       ...,\n",
            "       [ 72,  68,  57, ...,  18,  17,  15],\n",
            "       [ 56,  52,  43, ...,  16,  16,  16],\n",
            "       [ 63,  57,  48, ...,  19,  20,  22]],\n",
            "      shape=(720, 1280), dtype=uint8), array([[248, 248, 249, ...,  65,  66,  70],\n",
            "       [248, 248, 248, ...,  73,  75,  78],\n",
            "       [248, 248, 248, ...,  77,  76,  76],\n",
            "       ...,\n",
            "       [ 45,  50,  43, ...,  18,  18,  18],\n",
            "       [ 45,  52,  43, ...,  15,  14,  14],\n",
            "       [ 53,  61,  48, ...,  22,  23,  23]],\n",
            "      shape=(720, 1280), dtype=uint8), array([[251, 251, 251, ...,  75,  76,  77],\n",
            "       [251, 251, 251, ...,  79,  80,  82],\n",
            "       [251, 251, 251, ...,  82,  82,  81],\n",
            "       ...,\n",
            "       [ 67,  60,  62, ...,  19,  21,  22],\n",
            "       [ 64,  66,  67, ...,  22,  23,  22],\n",
            "       [ 53,  65,  70, ...,  23,  22,  20]],\n",
            "      shape=(720, 1280), dtype=uint8), array([[252, 252, 252, ...,  85,  83,  86],\n",
            "       [252, 252, 252, ...,  89,  88,  90],\n",
            "       [252, 252, 252, ...,  90,  90,  90],\n",
            "       ...,\n",
            "       [ 71,  72,  68, ...,  23,  20,  24],\n",
            "       [ 71,  71,  74, ...,  25,  24,  32],\n",
            "       [ 72,  70,  75, ...,  25,  21,  25]],\n",
            "      shape=(720, 1280), dtype=uint8)], [0, 0, 0, 0, 0, 0, 0, 0, 0, 0, 1, 1, 1, 1, 1, 1, 1, 1, 1, 1]]\n"
          ]
        }
      ],
      "source": [
        "face_data = read_images('Act 7 resources')\n",
        "print(face_data)"
      ]
    },
    {
      "cell_type": "markdown",
      "metadata": {
        "id": "aWNBxCbO2oO-"
      },
      "source": [
        "**Question: Run the function above on your generated dataset. Provide an analysis and note all the challenges you have encountered running this code.**"
      ]
    },
    {
      "cell_type": "markdown",
      "metadata": {},
      "source": [
        "The read_images() function processed the dataset by iterating through directories, converting images to grayscale, and resizing them to 200x200 pixels. When I executed the code, it did not contain any bugs/errors; therefore, I did not have to modify anything and did not run into challenges when running the code. Although if there were a problem, it would be the file path, as it could lead to errors when resizing if a missing or corrupted image is in the file path."
      ]
    },
    {
      "cell_type": "markdown",
      "metadata": {
        "id": "SJ5IMZcC3wZt"
      },
      "source": [
        "---"
      ]
    },
    {
      "cell_type": "markdown",
      "metadata": {
        "id": "DlLWfyvY3xm0"
      },
      "source": [
        "### Performing Face Recognition Algorithms"
      ]
    },
    {
      "cell_type": "markdown",
      "metadata": {
        "id": "FVF9dfTQ30pc"
      },
      "source": [
        "Here is a sample script for testing the Face Recognition Algorithm. In this section, we're going to follow the same process but with different algorithms for face recognitions, namely:\n",
        "- Eigenface Recognition\n",
        "- Fisherface Recognition\n",
        "- Local Binary Pattern Histograms (LBPH) Recognition"
      ]
    },
    {
      "cell_type": "code",
      "execution_count": 8,
      "metadata": {},
      "outputs": [
        {
          "name": "stdout",
          "output_type": "stream",
          "text": [
            "Collecting opencv-contrib-python\n",
            "  Using cached opencv_contrib_python-4.11.0.86-cp37-abi3-win_amd64.whl.metadata (20 kB)\n",
            "Requirement already satisfied: numpy>=1.21.2 in c:\\users\\jerome\\appdata\\local\\programs\\python\\python313\\lib\\site-packages (from opencv-contrib-python) (2.2.3)\n",
            "Using cached opencv_contrib_python-4.11.0.86-cp37-abi3-win_amd64.whl (46.2 MB)\n",
            "Installing collected packages: opencv-contrib-python\n",
            "Note: you may need to restart the kernel to use updated packages.\n"
          ]
        },
        {
          "name": "stderr",
          "output_type": "stream",
          "text": [
            "ERROR: Could not install packages due to an OSError: [WinError 5] Access is denied: 'c:\\\\Users\\\\Jerome\\\\AppData\\\\Local\\\\Programs\\\\Python\\\\Python313\\\\Lib\\\\site-packages\\\\cv2\\\\cv2.pyd'\n",
            "Consider using the `--user` option or check the permissions.\n",
            "\n",
            "\n",
            "[notice] A new release of pip is available: 24.3.1 -> 25.0.1\n",
            "[notice] To update, run: python.exe -m pip install --upgrade pip\n"
          ]
        }
      ],
      "source": [
        "%pip install opencv-contrib-python"
      ]
    },
    {
      "cell_type": "code",
      "execution_count": 10,
      "metadata": {
        "id": "cYQ19foI4Oe7"
      },
      "outputs": [
        {
          "ename": "AttributeError",
          "evalue": "module 'cv2' has no attribute 'face'",
          "output_type": "error",
          "traceback": [
            "\u001b[1;31m---------------------------------------------------------------------------\u001b[0m",
            "\u001b[1;31mAttributeError\u001b[0m                            Traceback (most recent call last)",
            "Cell \u001b[1;32mIn[10], line 46\u001b[0m\n\u001b[0;32m     43\u001b[0m   cv2\u001b[38;5;241m.\u001b[39mdestroyAllWindows()\n\u001b[0;32m     45\u001b[0m \u001b[38;5;28;01mif\u001b[39;00m \u001b[38;5;18m__name__\u001b[39m \u001b[38;5;241m==\u001b[39m \u001b[38;5;124m\"\u001b[39m\u001b[38;5;124m__main__\u001b[39m\u001b[38;5;124m\"\u001b[39m:\n\u001b[1;32m---> 46\u001b[0m     \u001b[43mface_rec\u001b[49m\u001b[43m(\u001b[49m\u001b[43m)\u001b[49m\n",
            "Cell \u001b[1;32mIn[10], line 13\u001b[0m, in \u001b[0;36mface_rec\u001b[1;34m()\u001b[0m\n\u001b[0;32m     10\u001b[0m [X, y] \u001b[38;5;241m=\u001b[39m read_images(\u001b[38;5;124m'\u001b[39m\u001b[38;5;124mAct 7 resources\u001b[39m\u001b[38;5;124m'\u001b[39m, (\u001b[38;5;241m200\u001b[39m,\u001b[38;5;241m200\u001b[39m))\n\u001b[0;32m     11\u001b[0m y \u001b[38;5;241m=\u001b[39m np\u001b[38;5;241m.\u001b[39masarray(y, dtype\u001b[38;5;241m=\u001b[39mnp\u001b[38;5;241m.\u001b[39mint32)\n\u001b[1;32m---> 13\u001b[0m model \u001b[38;5;241m=\u001b[39m \u001b[43mcv2\u001b[49m\u001b[38;5;241;43m.\u001b[39;49m\u001b[43mface\u001b[49m\u001b[38;5;241m.\u001b[39mEigenFaceRecognizer_create()\n\u001b[0;32m     14\u001b[0m model\u001b[38;5;241m.\u001b[39mtrain(X, y)\n\u001b[0;32m     16\u001b[0m camera \u001b[38;5;241m=\u001b[39m cv2\u001b[38;5;241m.\u001b[39mVideoCapture(\u001b[38;5;241m0\u001b[39m)\n",
            "\u001b[1;31mAttributeError\u001b[0m: module 'cv2' has no attribute 'face'"
          ]
        }
      ],
      "source": [
        "import sys\n",
        "import cv2\n",
        "\n",
        "def face_rec():\n",
        "  names = ['Me', 'Younger_Sister'] # Put your names here for faces to recognize\n",
        "  if len(sys.argv) < 2:\n",
        "    print(\"USAGE: facerec_demo.py </path/to/images> [</path/to/store/images/at>]\")\n",
        "    sys.exit()\n",
        "\n",
        "  [X, y] = read_images('Act 7 resources', (200,200))\n",
        "  y = np.asarray(y, dtype=np.int32)\n",
        "\n",
        "  model = cv2.face.EigenFaceRecognizer_create()\n",
        "  model.train(X, y)\n",
        "\n",
        "  camera = cv2.VideoCapture(0)\n",
        "  face_cascade = cv2.CascadeClassifier('haarcascade_frontalface_default.xml')\n",
        "\n",
        "  while True:\n",
        "    ret, img = camera.read()\n",
        "    if not ret:\n",
        "      break\n",
        "\n",
        "    faces = face_cascade.detectMultiScale(img, 1.3, 5)\n",
        "\n",
        "    for (x, y, w, h) in faces:\n",
        "      cv2.rectangle(img, (x, y), (x + w, y + h), (255, 0, 0), 2)\n",
        "      gray = cv2.cvtColor(img[y:y + h, x:x + w], cv2.COLOR_BGR2GRAY)\n",
        "      roi = cv2.resize(gray, (200, 200), interpolation=cv2.INTER_LINEAR)\n",
        "\n",
        "      try:\n",
        "        params = model.predict(roi)\n",
        "        label = names[params[0]]\n",
        "        cv2.putText(img, label + \", \" + str(params[1]), (x, y - 20), cv2.FONT_HERSHEY_SIMPLEX, 1, (255, 0, 0), 2)\n",
        "      except:\n",
        "        continue\n",
        "\n",
        "    cv2.imshow(\"camera\", img)\n",
        "    if cv2.waitKey(1) & 0xFF == ord(\"q\"):\n",
        "      break\n",
        "\n",
        "  camera.release()\n",
        "  cv2.destroyAllWindows()\n",
        "\n",
        "if __name__ == \"__main__\":\n",
        "    face_rec()\n"
      ]
    },
    {
      "cell_type": "markdown",
      "metadata": {
        "id": "iChhyN_Y4OH7"
      },
      "source": [
        "**Question: Provide an analysis of the sample script for the process using the Eigenface Model. What is the sample code doing? Are you able to troubleshoot any problems encountered?**"
      ]
    },
    {
      "cell_type": "markdown",
      "metadata": {
        "id": "-dL7n-mc5JO6"
      },
      "source": [
        "---\n",
        "Perform the remaining face recognition techniques by using the same (or modified) process from the sample code:\n",
        "\n",
        "- `model = cv2.face.createFisherFaceRecognizer()`\n",
        "- `model = cv2.face.createLBPHFaceRecognizer()`"
      ]
    },
    {
      "cell_type": "markdown",
      "metadata": {
        "id": "gb6Zeh9S5Y1o"
      },
      "source": [
        "**Question: The `predict()` method returns a two-element array. Provide your analysis of the two returned values and their important ince this application.**"
      ]
    },
    {
      "cell_type": "markdown",
      "metadata": {
        "id": "Mkyd0KjtGl79"
      },
      "source": [
        "## 4. Supplementary Activity"
      ]
    },
    {
      "cell_type": "markdown",
      "metadata": {
        "id": "Zgo4nuQt506X"
      },
      "source": [
        "Your accomplisment of the tasks below contribute to the achievement of ILO1, ILO2, and ILO3 for this module.\n",
        "\n",
        "---\n",
        "\n",
        "Tasks:\n",
        "1. Create a new dataset for testing, this dataset must include the following:\n",
        "  - The same person/s that the model has to recognize.\n",
        "  - Different person/s that the model should not recognize.\n",
        "2. For each model, perform 20 tests. Document the testing performed and provide observations.\n",
        "3. Conclude on the performed tests by providing your evaluation of the performance of the models."
      ]
    },
    {
      "cell_type": "markdown",
      "metadata": {
        "id": "KQspxP0IGoO1"
      },
      "source": [
        "## 5. Summary, Conclusions and Lessons Learned"
      ]
    },
    {
      "cell_type": "markdown",
      "metadata": {
        "id": "KvcmGICAoj1a"
      },
      "source": []
    },
    {
      "cell_type": "markdown",
      "metadata": {
        "id": "EqlVIPSqolAC"
      },
      "source": [
        "<hr/>\n",
        "\n",
        "***Proprietary Clause***\n",
        "\n",
        "*Property of the Technological Institute of the Philippines (T.I.P.). No part of the materials made and uploaded in this learning management system by T.I.P. may be copied, photographed, printed, reproduced, shared, transmitted, translated, or reduced to any electronic medium or machine-readable form, in whole or in part, without the prior consent of T.I.P.*"
      ]
    }
  ],
  "metadata": {
    "colab": {
      "collapsed_sections": [
        "ElMxAUPJGYLw",
        "X-RNZovNGV9k",
        "Mkyd0KjtGl79",
        "KQspxP0IGoO1"
      ],
      "provenance": []
    },
    "kernelspec": {
      "display_name": "Python 3",
      "name": "python3"
    },
    "language_info": {
      "codemirror_mode": {
        "name": "ipython",
        "version": 3
      },
      "file_extension": ".py",
      "mimetype": "text/x-python",
      "name": "python",
      "nbconvert_exporter": "python",
      "pygments_lexer": "ipython3",
      "version": "3.13.2"
    }
  },
  "nbformat": 4,
  "nbformat_minor": 0
}
